{
 "cells": [
  {
   "cell_type": "markdown",
   "id": "57dff959-e24e-4dab-8c55-3613db22192c",
   "metadata": {},
   "source": [
    "\"\"\"\n",
    "A utility file which includes functions to obtain data from alpaca api, plot efficient frontier. \n",
    "\n",
    "\"\"\""
   ]
  },
  {
   "cell_type": "code",
   "execution_count": 11,
   "id": "2bdb0e6e-6f78-4371-be63-40e84dee78d6",
   "metadata": {},
   "outputs": [],
   "source": [
    "# to import libraries\n",
    "import os\n",
    "import pandas as pd\n",
    "from dotenv import load_dotenv\n",
    "import alpaca_trade_api as tradeapi\n",
    "import numpy as np\n",
    "%matplotlib inline"
   ]
  },
  {
   "cell_type": "code",
   "execution_count": 12,
   "id": "5030b184-3989-4ea8-8bc3-2f36ea23bc05",
   "metadata": {},
   "outputs": [],
   "source": [
    "def get_data(tickers):\n",
    "    \"\"\"\n",
    "    Download data for the selected tickers from ALPACA API with the API keys\n",
    "    stored in the 'api.env' document \n",
    "    \"\"\"\n",
    "    load_dotenv('api.env')\n",
    "    alpaca_api_key = os.getenv(\"ALPACA_API_KEY\")\n",
    "    alpaca_secret_key = os.getenv(\"ALPACA_SECRET_KEY\")\n",
    "    \n",
    "    alpaca = tradeapi.REST(\n",
    "     alpaca_api_key,\n",
    "    alpaca_secret_key,\n",
    "    api_version=\"v2\")\n",
    "    \n",
    "    timeframe = '1D'\n",
    "\n",
    "    start_date = pd.Timestamp(\"2020-06-30\", tz=\"America/New_York\").isoformat()\n",
    "    end_date = pd.Timestamp(\"2021-10-31\", tz=\"America/New_York\").isoformat()\n",
    "    \n",
    "    price_df = alpaca.get_barset(\n",
    "    tickers,\n",
    "    timeframe,\n",
    "    start = start_date,\n",
    "    end = end_date\n",
    "    ).df\n",
    "    \n",
    "    return price_df"
   ]
  },
  {
   "cell_type": "code",
   "execution_count": 13,
   "id": "13b1890a-de2a-4d5d-9616-b36acdbc4960",
   "metadata": {},
   "outputs": [],
   "source": [
    "def asset_return(asset):\n",
    "    return_df = asset.pct_change().dropna()\n",
    "    return return_df"
   ]
  },
  {
   "cell_type": "code",
   "execution_count": 14,
   "id": "497226c9-b4c0-4f33-a7ad-d7945d2d4435",
   "metadata": {},
   "outputs": [],
   "source": [
    "def annualize_rets(r, periods_per_year):\n",
    "    \"\"\"\n",
    "    Annualizes a set of returns\n",
    "    \"\"\"\n",
    "    compounded_growth = (1+r).prod()\n",
    "    n_periods = r.shape[0]\n",
    "    return compounded_growth**(periods_per_year/n_periods)-1"
   ]
  },
  {
   "cell_type": "code",
   "execution_count": 15,
   "id": "82728910-81fb-4e10-9592-14ce816d43d6",
   "metadata": {},
   "outputs": [],
   "source": [
    "def portfolio_return(weights, returns):\n",
    "    \"\"\"\n",
    "    Weights -> Portfolio Returns\n",
    "    \"\"\"\n",
    "    return weights.T @ returns"
   ]
  },
  {
   "cell_type": "code",
   "execution_count": 16,
   "id": "be2e6be3-85bf-48ce-8a9c-9f480da9be3f",
   "metadata": {},
   "outputs": [],
   "source": [
    "def portfolio_vol(weights,covmat):\n",
    "    \"\"\"\n",
    "    Weights -> Vol\n",
    "    \"\"\"\n",
    "    return (weights.T @ covmat @ weights)**0.5"
   ]
  },
  {
   "cell_type": "code",
   "execution_count": 17,
   "id": "429cf4f1-bb85-4968-b5aa-ee61220ab328",
   "metadata": {},
   "outputs": [],
   "source": [
    "def plot_ef2(n_points, er, cov, style = \".-\"):\n",
    "    \"\"\"\n",
    "    Plots the 2-asset efficient frontier\n",
    "    \"\"\"\n",
    "\n",
    "    \n",
    "    weights = [np.array([w, 1-w]) for w in np.linspace(0, 1, n_points)]\n",
    "    rets = [portfolio_return(w, er) for w in weights]\n",
    "    vols = [portfolio_vol(w, cov) for w in weights]\n",
    "    ef = pd.DataFrame({\n",
    "        \"Returns\": rets,\n",
    "        \"Volatility\": vols\n",
    "    })\n",
    "    return ef.plot.line(x=\"Volatility\", y=\"Returns\", style=style, figsize = (15,10), color = \"pink\", legend = False, title = \"Efficient Frontier of the Portfolio\")"
   ]
  },
  {
   "cell_type": "code",
   "execution_count": 18,
   "id": "dc94809b-4370-44a0-9082-70d9b0bb3047",
   "metadata": {},
   "outputs": [],
   "source": [
    "# to put in the -main- file\n",
    "\n",
    "portfolio_data = get_data(tickers = [\"AGG,SPY\"])\n",
    "AGG_return = asset_return(portfolio_data[\"AGG\"][\"close\"])\n",
    "SPY_return = asset_return(portfolio_data[\"SPY\"][\"close\"])\n",
    "returns_AGG_SPY = pd.concat ([AGG_return, SPY_return], axis = 1)\n",
    "er = annualize_rets(returns_AGG_SPY, 252)\n",
    "cov = returns_AGG_SPY.cov()"
   ]
  },
  {
   "cell_type": "code",
   "execution_count": 19,
   "id": "0e147857-2843-4562-968d-bcffcd949582",
   "metadata": {},
   "outputs": [
    {
     "data": {
      "text/plain": [
       "<AxesSubplot:title={'center':'Efficient Frontier of the Portfolio'}, xlabel='Volatility'>"
      ]
     },
     "execution_count": 19,
     "metadata": {},
     "output_type": "execute_result"
    },
    {
     "data": {
      "image/png": "[encoded data removed]",
      "text/plain": [
       "<Figure size 1080x720 with 1 Axes>"
      ]
     },
     "metadata": {
      "needs_background": "light"
     },
     "output_type": "display_data"
    }
   ],
   "source": [
    "# to run in the -main- file \n",
    "plot_ef2(25, er, cov, style = '.-')"
   ]
  },
  {
   "cell_type": "code",
   "execution_count": 20,
   "id": "1d67115d-69a4-4ae9-9703-0da9694c92f0",
   "metadata": {},
   "outputs": [],
   "source": [
    "from scipy.optimize import minimize\n",
    "\n",
    "def minimize_vol(target_return, er, cov):\n",
    "    \"\"\"\n",
    "    target_ret -> W\n",
    "    \"\"\"\n",
    "    n = er.shape[0]\n",
    "    init_guess = np.repeat (1/n,n)\n",
    "    bounds = ((0.0, 1.0),)*n\n",
    "    return_is_target = {\n",
    "        'type': 'eq',\n",
    "        'args': (er,),\n",
    "        'fun': lambda weights, er: target_return - portfolio_return(weights, er)\n",
    "    }\n",
    "    weights_sum_to_1 = {\n",
    "        'type': 'eq',\n",
    "        'fun': lambda weights: np.sum(weights) - 1\n",
    "    }\n",
    "    results = minimize(portfolio_vol, init_guess, \n",
    "                       args = (cov,), method=\"SLSQP\",\n",
    "                       options = {'disp': False},\n",
    "                       constraints=(return_is_target, weights_sum_to_1),\n",
    "                       bounds=bounds\n",
    "                      )\n",
    "    return results.x"
   ]
  },
  {
   "cell_type": "code",
   "execution_count": 21,
   "id": "f599d953-8ba3-43cc-81fc-2128ba8ba135",
   "metadata": {},
   "outputs": [],
   "source": [
    "def optimal_weights(n_points, er, cov):\n",
    "    \"\"\"\n",
    "    -> list of weights to run the optmizer on to minimize the vol\n",
    "    \"\"\"\n",
    "    target_rs = np.linspace(er.min(),er.max(),n_points)\n",
    "    weights = [minimize_vol(target_return, er, cov) for target_return in target_rs]\n",
    "    return weights"
   ]
  },
  {
   "cell_type": "code",
   "execution_count": 22,
   "id": "992ec990-847e-4fcf-a693-09aeaeb21e7c",
   "metadata": {},
   "outputs": [],
   "source": [
    "def msr(riskfree_rate, er, cov):\n",
    "    \"\"\"\n",
    "    RiskFree rate + ER + COV -> W\n",
    "    Returns the weights of the portfolio that gives you the maximum sharpe ratio given the riskfree rate and expected returns and a covariance matrix\n",
    "    \"\"\"\n",
    "    n = er.shape[0]\n",
    "    init_guess = np.repeat (1/n,n)\n",
    "    bounds = ((0.0, 1.0),)*n\n",
    "    weights_sum_to_1 = {\n",
    "        'type': 'eq',\n",
    "        'fun': lambda weights: np.sum(weights) - 1\n",
    "    }\n",
    "    def neg_sharpe_ratio(weights, riskfree_rate, er, cov):\n",
    "        \"\"\"\n",
    "        Returns the negative of the sharpe ratios, given weights\n",
    "        \"\"\"\n",
    "        r = portfolio_return(weights, er)\n",
    "        vol = portfolio_vol(weights, cov)\n",
    "        return -(r-riskfree_rate)/vol\n",
    "    \n",
    "    results = minimize(neg_sharpe_ratio, init_guess, \n",
    "                       args = (riskfree_rate, er,cov,), method=\"SLSQP\",\n",
    "                       options = {'disp': False},\n",
    "                       constraints=(weights_sum_to_1),\n",
    "                       bounds=bounds\n",
    "                      )\n",
    "    return results.x"
   ]
  },
  {
   "cell_type": "code",
   "execution_count": 23,
   "id": "5019290e-fa56-49ff-9141-a29e049c8f64",
   "metadata": {},
   "outputs": [],
   "source": [
    "def gmv(cov):\n",
    "    \"\"\"\n",
    "    Returns the weight of the Global Minimum Vol portfolio\n",
    "    given the covariance matris\n",
    "    \"\"\"\n",
    "    n = cov.shape[0]\n",
    "    return msr(0, np.repeat(1,n), cov)"
   ]
  },
  {
   "cell_type": "code",
   "execution_count": 24,
   "id": "6fe88a5c-1f37-49fd-87c8-98ac38580d83",
   "metadata": {},
   "outputs": [],
   "source": [
    "def plot_ef(n_points, er, cov, show_cml=False, style='.-', riskfree_rate=0.1, show_ew=False, show_gmv=False):\n",
    "    \"\"\"\n",
    "    Plots the multi-asset efficient frontier\n",
    "    \"\"\"\n",
    "\n",
    "    weights = optimal_weights(n_points, er, cov)\n",
    "    rets = [portfolio_return(w, er) for w in weights]\n",
    "    vols = [portfolio_vol(w, cov) for w in weights]\n",
    "    ef = pd.DataFrame({\n",
    "        \"Returns\": rets,\n",
    "        \"Volatility\": vols\n",
    "    })\n",
    "    ax= ef.plot.line(x=\"Volatility\", y=\"Returns\", style=style)\n",
    "    if show_ew:\n",
    "        n = er.shape[0]\n",
    "        w_ew = np.repeat(1/n, n)\n",
    "        r_ew = portfolio_return(w_ew, er)\n",
    "        vol_ew = portfolio_vol(w_ew, cov)\n",
    "        # display EW\n",
    "        ax.plot([vol_ew],[r_ew],color=\"goldenrod\", marker=\"o\",markersize=12)\n",
    "    if show_gmv:\n",
    "        w_gmv = gmv(cov)\n",
    "        r_gmv = portfolio_return(w_gmv, er)\n",
    "        vol_gmv = portfolio_vol(w_gmv, cov)\n",
    "        # display GMV\n",
    "        ax.plot([vol_gmv], [r_gmv], color = \"midnightblue\", marker = \"o\", markersize = 10)\n",
    "    if show_cml:\n",
    "        ax.set_xlim(left = 0)\n",
    "        w_msr = msr(riskfree_rate, er, cov)\n",
    "        r_msr = portfolio_return(w_msr, er)\n",
    "        vol_msr = portfolio_vol(w_msr, cov)\n",
    "        # Add CML\n",
    "        cml_x = [0, vol_msr]\n",
    "        cml_y = [riskfree_rate, r_msr]\n",
    "        ax.plot(cml_x, cml_y, color = \"green\", marker = \"o\", linestyle = \"dashed\", markersize=12, linewidth=2)\n",
    "        \n",
    "    return ax"
   ]
  },
  {
   "cell_type": "code",
   "execution_count": 29,
   "id": "0b0b3406-0397-4f06-8801-6eaab91d5ec3",
   "metadata": {},
   "outputs": [
    {
     "data": {
      "text/plain": [
       "<AxesSubplot:xlabel='Volatility'>"
      ]
     },
     "execution_count": 29,
     "metadata": {},
     "output_type": "execute_result"
    },
    {
     "data": {
      "image/png": "[encoded data removed]",
      "text/plain": [
       "<Figure size 432x288 with 1 Axes>"
      ]
     },
     "metadata": {
      "needs_background": "light"
     },
     "output_type": "display_data"
    }
   ],
   "source": [
    "plot_ef(25, er, cov, show_cml = True, style = '.-', riskfree_rate = 0.02, show_ew = True, show_gmv = True) "
   ]
  },
  {
   "cell_type": "code",
   "execution_count": 30,
   "id": "b486013d-12c3-4bee-a2ae-c221b5737ccf",
   "metadata": {},
   "outputs": [
    {
     "data": {
      "text/plain": [
       "array([5.42343948e-13, 1.00000000e+00])"
      ]
     },
     "execution_count": 30,
     "metadata": {},
     "output_type": "execute_result"
    }
   ],
   "source": [
    "msr(0.02, er, cov)"
   ]
  },
  {
   "cell_type": "code",
   "execution_count": 31,
   "id": "c6f88b5d-0b55-4d81-9907-4bb30be41b70",
   "metadata": {},
   "outputs": [
    {
     "data": {
      "text/plain": [
       "array([0.8827479, 0.1172521])"
      ]
     },
     "execution_count": 31,
     "metadata": {},
     "output_type": "execute_result"
    }
   ],
   "source": [
    "gmv(cov)"
   ]
  },
  {
   "cell_type": "code",
   "execution_count": null,
   "id": "0e98d453-861d-4e98-911d-5ab1a4242be7",
   "metadata": {},
   "outputs": [],
   "source": []
  }
 ],
 "metadata": {
  "kernelspec": {
   "display_name": "Python (dev)",
   "language": "python",
   "name": "dev"
  },
  "language_info": {
   "codemirror_mode": {
    "name": "ipython",
    "version": 3
   },
   "file_extension": ".py",
   "mimetype": "text/x-python",
   "name": "python",
   "nbconvert_exporter": "python",
   "pygments_lexer": "ipython3",
   "version": "3.7.10"
  }
 },
 "nbformat": 4,
 "nbformat_minor": 5
}
