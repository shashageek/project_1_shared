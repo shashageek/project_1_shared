{
 "cells": [
  {
   "cell_type": "code",
   "execution_count": 8,
   "id": "503b466b-81f7-4f8c-a91f-4238c0244c47",
   "metadata": {},
   "outputs": [],
   "source": [
    "# Portfolio 1 [AGG,SPY]\n",
    "weight_1 = [0,1]"
   ]
  },
  {
   "cell_type": "code",
   "execution_count": 11,
   "id": "575bb959-1a5c-4eff-bfe2-be6da166c80d",
   "metadata": {},
   "outputs": [],
   "source": [
    "# Portfolio 2 [AGG,SPY]\n",
    "weight_2 = [0.2, 0.8]"
   ]
  },
  {
   "cell_type": "code",
   "execution_count": 12,
   "id": "e556bbed-27f6-41aa-92f5-7e235348dc94",
   "metadata": {},
   "outputs": [],
   "source": [
    "# Portfolio 3 [AGG,SPY]\n",
    "weight_3 = [0.5, 0.5]"
   ]
  },
  {
   "cell_type": "code",
   "execution_count": 15,
   "id": "c140ea2e-ce4d-41b4-8b01-d33190799253",
   "metadata": {},
   "outputs": [],
   "source": [
    "# Portfolio 4 [AGG,SPY]\n",
    "weight_4 = [0.8, 0.2]"
   ]
  },
  {
   "cell_type": "code",
   "execution_count": 16,
   "id": "6a27c2b2-6c14-49d2-86e5-dcbc5d8275b2",
   "metadata": {},
   "outputs": [],
   "source": [
    "# Portfolio 5 [AGG,SPY]\n",
    "weight_5 = [1, 0]"
   ]
  }
 ],
 "metadata": {
  "kernelspec": {
   "display_name": "Python (dev)",
   "language": "python",
   "name": "dev"
  },
  "language_info": {
   "codemirror_mode": {
    "name": "ipython",
    "version": 3
   },
   "file_extension": ".py",
   "mimetype": "text/x-python",
   "name": "python",
   "nbconvert_exporter": "python",
   "pygments_lexer": "ipython3",
   "version": "3.7.10"
  }
 },
 "nbformat": 4,
 "nbformat_minor": 5
}
